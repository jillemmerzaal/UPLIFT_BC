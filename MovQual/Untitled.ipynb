{
 "cells": [
  {
   "cell_type": "code",
   "execution_count": 1,
   "id": "8d83379d",
   "metadata": {},
   "outputs": [],
   "source": [
    "import numpy as np\n",
    "import pandas as pd"
   ]
  },
  {
   "cell_type": "code",
   "execution_count": null,
   "id": "3c899cea",
   "metadata": {},
   "outputs": [],
   "source": [
    "dash = pd.read_csv(\"C:\\\\Users\\\\u0117545\\\\KU Leuven\\\\An De Groef - DATA\\\\XsensTest\\\\QuickDASH\\\\UPLIFTBC-QuickDASH_DATA_2022-10-31_1406 (1).csv\",\n",
    "                   sep=';', index_col=0)\n",
    "dash.head()"
   ]
  }
 ],
 "metadata": {
  "kernelspec": {
   "display_name": "Python 3 (ipykernel)",
   "language": "python",
   "name": "python3"
  },
  "language_info": {
   "codemirror_mode": {
    "name": "ipython",
    "version": 3
   },
   "file_extension": ".py",
   "mimetype": "text/x-python",
   "name": "python",
   "nbconvert_exporter": "python",
   "pygments_lexer": "ipython3",
   "version": "3.9.7"
  }
 },
 "nbformat": 4,
 "nbformat_minor": 5
}
