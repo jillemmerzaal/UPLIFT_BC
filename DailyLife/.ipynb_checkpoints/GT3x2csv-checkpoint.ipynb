{
 "cells": [
  {
   "cell_type": "code",
   "execution_count": 1,
   "id": "38a95776",
   "metadata": {},
   "outputs": [],
   "source": [
    "from pygt3x.reader import FileReader\n",
    "from pygt3x.calibration import CalibratedReader\n",
    "import pygt3x\n",
    "import numpy as np\n",
    "import pandas as pd\n",
    "import matplotlib.pyplot as plt\n",
    "import os\n",
    "class bcolors:\n",
    "    HEADER = '\\033[95m'\n",
    "    OKBLUE = '\\033[94m'\n",
    "    OKCYAN = '\\033[96m'\n",
    "    OKGREEN = '\\033[92m'\n",
    "    WARNING = '\\033[93m'\n",
    "    FAIL = '\\033[91m'\n",
    "    ENDC = '\\033[0m'\n",
    "    BOLD = '\\033[1m'\n",
    "    UNDERLINE = '\\033[4m'"
   ]
  },
  {
   "cell_type": "code",
   "execution_count": 2,
   "id": "9d6dbdc1",
   "metadata": {},
   "outputs": [
    {
     "data": {
      "text/plain": [
       "['BC_002_H_T0.agd',\n",
       " 'BC_002_H_T0.gt3x',\n",
       " 'BC_002_H_T060sec.agd',\n",
       " 'BC_002_H_T060secClinicalReport.pdf',\n",
       " 'BC_002_L_T0.agd',\n",
       " 'BC_002_L_T0.gt3x',\n",
       " 'BC_002_R_T0.agd',\n",
       " 'BC_002_R_T0.gt3x']"
      ]
     },
     "execution_count": 2,
     "metadata": {},
     "output_type": "execute_result"
    }
   ],
   "source": [
    "path = \"C:\\\\Users\\\\u0117545\\\\KU Leuven\\\\An De Groef - DATA\\\\BC_002\\\\Accelerometrie\\\\\"\n",
    "ppID = 'T0\\\\'\n",
    "\n",
    "dir_path = path + ppID\n",
    "\n",
    "# list file and directories\n",
    "res = os.listdir(dir_path)\n",
    "res"
   ]
  },
  {
   "cell_type": "code",
   "execution_count": null,
   "id": "b7161f2b",
   "metadata": {
    "scrolled": false
   },
   "outputs": [
    {
     "name": "stdout",
     "output_type": "stream",
     "text": [
      "\u001b[95mFile to analyse: BC_002_H_T0.gt3x\u001b[0m\n",
      "Input path: C:\\Users\\u0117545\\KU Leuven\\An De Groef - DATA\\BC_002\\Accelerometrie\\T0\\BC_002_H_T0.gt3x\n",
      "Output path: C:\\Users\\u0117545\\KU Leuven\\An De Groef - DATA\\BC_002\\Accelerometrie\\T0\\csv\\BC_002_H_T0.csv\n"
     ]
    }
   ],
   "source": [
    "for file in os.listdir(dir_path):\n",
    "    if '.gt3x' in file:\n",
    "        print(bcolors.HEADER  + 'File to analyse: {}'.format(file) + bcolors.ENDC)\n",
    "        Input = file\n",
    "        core = Input[:Input.find('.')]\n",
    "        input_path = dir_path + Input\n",
    "        output_path = dir_path + \"csv\\\\\" + core + '.csv'\n",
    "        \n",
    "        print('Input path: {}'.format(input_path))\n",
    "        print('Output path: {}'.format(output_path))\n",
    "        \n",
    "        with FileReader(input_path) as reader:\n",
    "            calibrated_reader = CalibratedReader(reader)\n",
    "            df = calibrated_reader.to_pandas()\n",
    "            print(df.head())\n",
    "            #df.to_csv(output_path)\n",
    "            \n",
    "            \n",
    "        ncols = 1\n",
    "        nrows = 2\n",
    "        f = plt.figure(figsize=(5, 5))\n",
    "        plt.subplots_adjust(hspace=0.25)\n",
    "        plt.plot(df['X'])\n",
    "        \n",
    "        print(80*'_'+'\\n')"
   ]
  },
  {
   "cell_type": "code",
   "execution_count": null,
   "id": "4e88d51a",
   "metadata": {},
   "outputs": [],
   "source": []
  }
 ],
 "metadata": {
  "kernelspec": {
   "display_name": "Python 3 (ipykernel)",
   "language": "python",
   "name": "python3"
  },
  "language_info": {
   "codemirror_mode": {
    "name": "ipython",
    "version": 3
   },
   "file_extension": ".py",
   "mimetype": "text/x-python",
   "name": "python",
   "nbconvert_exporter": "python",
   "pygments_lexer": "ipython3",
   "version": "3.9.7"
  }
 },
 "nbformat": 4,
 "nbformat_minor": 5
}
