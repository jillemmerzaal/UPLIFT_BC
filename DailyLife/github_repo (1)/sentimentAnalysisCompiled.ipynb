{
 "cells": [
  {
   "cell_type": "markdown",
   "metadata": {},
   "source": [
    "## Sentiment Analysis: Calling MATLAB from Python Using MATLAB Runtime\n",
    "\n",
    "#### Import speech-to-text, MATLAB Runtime, and generated modules\n",
    "\n",
    "Use the MATLAB Runtime to call the model and code, which does not require a MATLAB installation or license to use. More info here: https://www.mathworks.com/help/compiler_sdk/python_packages.html\n",
    "\n",
    "First, install the Compiled Python library by going in the for_testing folder and execute the install command class (open a terminal with Ctrl+ù from VScode or the good old Windows cmd):\n",
    " * `cd AirQual\\for_testing`\n",
    " * `python setup.py install`"
   ]
  },
  {
   "cell_type": "code",
   "execution_count": 1,
   "metadata": {},
   "outputs": [],
   "source": [
    "import mySpeechRecognizer\n",
    "import sentimentAnalysis"
   ]
  },
  {
   "cell_type": "markdown",
   "metadata": {},
   "source": [
    "#### Initialize sentiment analysis instance generated from MATLAB\n",
    "NOTE: This will start the MATLAB Runtime"
   ]
  },
  {
   "cell_type": "code",
   "execution_count": 2,
   "metadata": {},
   "outputs": [],
   "source": [
    "analyzer = sentimentAnalysis.initialize()"
   ]
  },
  {
   "cell_type": "markdown",
   "metadata": {},
   "source": [
    "#### Run the speech-to-text detector (Python module)"
   ]
  },
  {
   "cell_type": "code",
   "execution_count": 3,
   "metadata": {},
   "outputs": [
    {
     "name": "stdout",
     "output_type": "stream",
     "text": [
      "i wanted to go outside of the weather is terrible\n"
     ]
    }
   ],
   "source": [
    "detectedText = mySpeechRecognizer.speechToText()\n",
    "print(detectedText)"
   ]
  },
  {
   "cell_type": "markdown",
   "metadata": {},
   "source": [
    "#### Run the sentiment analysis"
   ]
  },
  {
   "cell_type": "code",
   "execution_count": 4,
   "metadata": {},
   "outputs": [
    {
     "name": "stdout",
     "output_type": "stream",
     "text": [
      "Negative\n",
      "[[0.27927929162979126,0.7207207083702087,0.0]]\n"
     ]
    }
   ],
   "source": [
    "sentiment, scores = analyzer.sentimentAnalysisVADER(detectedText, nargout=2)\n",
    "print(sentiment)\n",
    "print(scores)"
   ]
  },
  {
   "cell_type": "markdown",
   "metadata": {},
   "source": [
    "#### Terminate the sentiment analysis instance"
   ]
  },
  {
   "cell_type": "code",
   "execution_count": 5,
   "metadata": {},
   "outputs": [],
   "source": [
    "analyzer.terminate()"
   ]
  },
  {
   "cell_type": "markdown",
   "metadata": {},
   "source": [
    "Copyright 2019 - 2022 The MathWorks, Inc."
   ]
  }
 ],
 "metadata": {
  "kernelspec": {
   "display_name": "Python 3.9.13 64-bit",
   "language": "python",
   "name": "python3"
  },
  "language_info": {
   "codemirror_mode": {
    "name": "ipython",
    "version": 3
   },
   "file_extension": ".py",
   "mimetype": "text/x-python",
   "name": "python",
   "nbconvert_exporter": "python",
   "pygments_lexer": "ipython3",
   "version": "3.9.13"
  },
  "vscode": {
   "interpreter": {
    "hash": "81794d4967e6c3204c66dcd87b604927b115b27c00565d3d43f05ba2f3a2cb0d"
   }
  }
 },
 "nbformat": 4,
 "nbformat_minor": 4
}
