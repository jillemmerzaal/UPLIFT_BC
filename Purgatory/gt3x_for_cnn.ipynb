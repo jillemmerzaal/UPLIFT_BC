{
 "cells": [
  {
   "cell_type": "code",
   "execution_count": 5,
   "id": "583ea016",
   "metadata": {},
   "outputs": [],
   "source": [
    "# import packages\n",
    "import os\n",
    "import numpy as np\n",
    "import logging\n",
    "import logging\n",
    "import zipfile\n",
    "import numpy as np\n",
    "from struct import unpack\n",
    "from bitstring import Bits\n",
    "from gt3x import read_gt3x\n",
    "\n"
   ]
  },
  {
   "cell_type": "code",
   "execution_count": 10,
   "id": "cdf9c34d",
   "metadata": {},
   "outputs": [],
   "source": [
    "f = \"C:\\\\Users\\\\u0117545\\\\KU Leuven\\\\An De Groef - DATA\\\\BC_002\\\\Accelerometrie\\\\T0\\\\BC_002_H_T0.gt3x\"\n",
    "f_save = \"C:\\\\Users\\\\u0117545\\\\KU Leuven\\\\An De Groef - DATA\\\\BC_002\\\\Accelerometrie\\\\T0\\\\\""
   ]
  },
  {
   "cell_type": "code",
   "execution_count": 3,
   "id": "640de650",
   "metadata": {},
   "outputs": [
    {
     "name": "stdout",
     "output_type": "stream",
     "text": [
      "File Name                                             Modified             Size\n",
      "log.bin                                        2022-05-12 14:54:16     27113338\n",
      "info.txt                                       2022-05-12 14:54:16          536\n",
      "Extracting all the files now...\n",
      "Done!\n"
     ]
    }
   ],
   "source": [
    "with zipfile.ZipFile(f, 'r') as zip:\n",
    "    # printing all the contents of the zip file\n",
    "    zip.printdir()\n",
    "  \n",
    "    # extracting all the files\n",
    "    print('Extracting all the files now...')\n",
    "    zip.extractall()\n",
    "    print('Done!')\n",
    "    \n",
    "    data = zip.read('info.txt')\n",
    "    "
   ]
  },
  {
   "cell_type": "code",
   "execution_count": 8,
   "id": "6bd9e894",
   "metadata": {},
   "outputs": [
    {
     "data": {
      "text/plain": [
       "'C:\\\\Users\\\\u0117545\\\\KU Leuven\\\\An De Groef - DATA\\\\BC_002\\\\Accelerometrie\\\\T0\\\\BC_002_H_T0.gt3x'"
      ]
     },
     "execution_count": 8,
     "metadata": {},
     "output_type": "execute_result"
    }
   ],
   "source": [
    "f"
   ]
  },
  {
   "cell_type": "code",
   "execution_count": 11,
   "id": "941bcd40",
   "metadata": {},
   "outputs": [],
   "source": [
    "def process_gt3x_file(idx, total, file, save_folder):\n",
    "\t\"\"\"\n",
    "\tProcessing of a single .gt3x file with the following steps\n",
    "\t\t1: unzip .gt3x to get the log.bin and info.txt file and save to disk\n",
    "\t\t2: read info.txt file and parse the content to a dictionary\n",
    "\t\t3: extract raw acceleration data from the log.bin binary file\n",
    "\t\t4: save all data to disk\n",
    "\n",
    "\n",
    "\tParameters\n",
    "\t-----------\n",
    "\tfile : os.path\n",
    "\t\tfile location if a single .gt3x file. This is the raw format of the ActiGraph\n",
    "\tsave_folder : os.path\n",
    "\t\tfolder location where extracted raw data should be saved. If folder does not exist, it will be created. If not provided, the same folder as defined by -fd will be used.\n",
    "\tdelete_source_file : Bool\n",
    "\t\tdelete the original .gt3x source file after its content is unzipped. If not provided, then default to False\n",
    "\tdelete_zip_file : Bool\n",
    "\t\twhen the .gt3x file is unzipped, it creates a log.bin data. This file contains the raw acceleration data. After this data has been converted to a numpy array, it can be deleted when set to True. Default False\n",
    "\t\n",
    "\t\"\"\"\n",
    "\n",
    "\tlogging.info(f'Processing file {file} {idx + 1}/{total}')\n",
    "\n",
    "\t# extract name for subfolder based on file name without extension\n",
    "\tsubfolder = os.path.splitext(file)[0].split(os.sep)[-1]\n",
    "\t\n",
    "\t# if save folder is not sent, then use the same folder as where the .gt3x file is located\n",
    "\tif save_folder is None:\n",
    "\t\tsave_folder = os.path.splitext(file)[0]\n",
    "\telse:\n",
    "\t\tsave_folder = os.path.join(save_folder, subfolder)\n",
    "\n",
    "\t\n",
    "\t# unzip .gt3x file and get the file location of the binary log.bin (which contains the raw data) and the info.txt which contains the meta-data\n",
    "\t# log_bin, info_txt = unzip_gt3x_file(f = file, save_location = save_folder, delete_source_file = delete_source_file)\n",
    "\n",
    "\t# # get meta data from info.txt file\n",
    "\t# meta_data = extract_info(info_txt)\n",
    "\n",
    "\t# # read raw data from binary data\n",
    "\t# log_data, time_data = extract_log(log_bin = log_bin, acceleration_scale = float(meta_data['Acceleration_Scale']), sample_rate = int(meta_data['Sample_Rate']), use_scaling = False)\n",
    "\n",
    "\t# if 'delete_zip_file' is set to True, then remove the unpacked log.bin data\n",
    "\t# if delete_zip_file:\n",
    "\t# \tos.remove(log_bin)\n",
    "\n",
    "\t\"\"\"\n",
    "\t\tThe following code will use the package gt3x which contains updated code for older .gt3x formats. In case you want to use the functions within this repo, please use the above lines\n",
    "\t\twhich are now uncommented.\n",
    "\t\"\"\"\n",
    "\n",
    "\tlog_data, time_data, meta_data = read_gt3x(f = file, save_location = save_folder, create_time = False, rescale_data = False, verbose = False)\n",
    "\n",
    "\t# save log_data and time_data as numpy array\n",
    "\tnp.savez(file = os.path.join(save_folder, subfolder), raw_data = log_data, time_data = time_data, meta_data = meta_data)\n"
   ]
  },
  {
   "cell_type": "code",
   "execution_count": 12,
   "id": "95a40a90",
   "metadata": {},
   "outputs": [
    {
     "ename": "ValueError",
     "evalue": "cannot convert float NaN to integer",
     "output_type": "error",
     "traceback": [
      "\u001b[1;31m---------------------------------------------------------------------------\u001b[0m",
      "\u001b[1;31mValueError\u001b[0m                                Traceback (most recent call last)",
      "Cell \u001b[1;32mIn[12], line 1\u001b[0m\n\u001b[1;32m----> 1\u001b[0m \u001b[43mprocess_gt3x_file\u001b[49m\u001b[43m(\u001b[49m\u001b[38;5;241;43m1\u001b[39;49m\u001b[43m,\u001b[49m\u001b[43m \u001b[49m\u001b[38;5;241;43m3\u001b[39;49m\u001b[43m,\u001b[49m\u001b[43m \u001b[49m\u001b[43mf\u001b[49m\u001b[43m,\u001b[49m\u001b[43m \u001b[49m\u001b[43mf_save\u001b[49m\u001b[43m)\u001b[49m\n",
      "Cell \u001b[1;32mIn[11], line 53\u001b[0m, in \u001b[0;36mprocess_gt3x_file\u001b[1;34m(idx, total, file, save_folder)\u001b[0m\n\u001b[0;32m     35\u001b[0m \u001b[38;5;66;03m# unzip .gt3x file and get the file location of the binary log.bin (which contains the raw data) and the info.txt which contains the meta-data\u001b[39;00m\n\u001b[0;32m     36\u001b[0m \u001b[38;5;66;03m# log_bin, info_txt = unzip_gt3x_file(f = file, save_location = save_folder, delete_source_file = delete_source_file)\u001b[39;00m\n\u001b[0;32m     37\u001b[0m \n\u001b[1;32m   (...)\u001b[0m\n\u001b[0;32m     45\u001b[0m \u001b[38;5;66;03m# if delete_zip_file:\u001b[39;00m\n\u001b[0;32m     46\u001b[0m \u001b[38;5;66;03m# \tos.remove(log_bin)\u001b[39;00m\n\u001b[0;32m     48\u001b[0m \u001b[38;5;124;03m\"\"\"\u001b[39;00m\n\u001b[0;32m     49\u001b[0m \u001b[38;5;124;03m\tThe following code will use the package gt3x which contains updated code for older .gt3x formats. In case you want to use the functions within this repo, please use the above lines\u001b[39;00m\n\u001b[0;32m     50\u001b[0m \u001b[38;5;124;03m\twhich are now uncommented.\u001b[39;00m\n\u001b[0;32m     51\u001b[0m \u001b[38;5;124;03m\"\"\"\u001b[39;00m\n\u001b[1;32m---> 53\u001b[0m log_data, time_data, meta_data \u001b[38;5;241m=\u001b[39m \u001b[43mread_gt3x\u001b[49m\u001b[43m(\u001b[49m\u001b[43mf\u001b[49m\u001b[43m \u001b[49m\u001b[38;5;241;43m=\u001b[39;49m\u001b[43m \u001b[49m\u001b[43mfile\u001b[49m\u001b[43m,\u001b[49m\u001b[43m \u001b[49m\u001b[43msave_location\u001b[49m\u001b[43m \u001b[49m\u001b[38;5;241;43m=\u001b[39;49m\u001b[43m \u001b[49m\u001b[43msave_folder\u001b[49m\u001b[43m,\u001b[49m\u001b[43m \u001b[49m\u001b[43mcreate_time\u001b[49m\u001b[43m \u001b[49m\u001b[38;5;241;43m=\u001b[39;49m\u001b[43m \u001b[49m\u001b[38;5;28;43;01mFalse\u001b[39;49;00m\u001b[43m,\u001b[49m\u001b[43m \u001b[49m\u001b[43mrescale_data\u001b[49m\u001b[43m \u001b[49m\u001b[38;5;241;43m=\u001b[39;49m\u001b[43m \u001b[49m\u001b[38;5;28;43;01mFalse\u001b[39;49;00m\u001b[43m,\u001b[49m\u001b[43m \u001b[49m\u001b[43mverbose\u001b[49m\u001b[43m \u001b[49m\u001b[38;5;241;43m=\u001b[39;49m\u001b[43m \u001b[49m\u001b[38;5;28;43;01mFalse\u001b[39;49;00m\u001b[43m)\u001b[49m\n\u001b[0;32m     55\u001b[0m \u001b[38;5;66;03m# save log_data and time_data as numpy array\u001b[39;00m\n\u001b[0;32m     56\u001b[0m np\u001b[38;5;241m.\u001b[39msavez(file \u001b[38;5;241m=\u001b[39m os\u001b[38;5;241m.\u001b[39mpath\u001b[38;5;241m.\u001b[39mjoin(save_folder, subfolder), raw_data \u001b[38;5;241m=\u001b[39m log_data, time_data \u001b[38;5;241m=\u001b[39m time_data, meta_data \u001b[38;5;241m=\u001b[39m meta_data)\n",
      "File \u001b[1;32mC:\\GBW_MyPrograms\\Anaconda3\\envs\\MATLAB_PYTHON\\lib\\site-packages\\gt3x\\gt3x_functions.py:560\u001b[0m, in \u001b[0;36mread_gt3x\u001b[1;34m(f, save_location, create_time, rescale_data, verbose, trim)\u001b[0m\n\u001b[0;32m    557\u001b[0m \tmeta_data[\u001b[38;5;124m'\u001b[39m\u001b[38;5;124mest_n_samples\u001b[39m\u001b[38;5;124m'\u001b[39m] \u001b[38;5;241m=\u001b[39m est_n_samples\n\u001b[0;32m    558\u001b[0m \u001b[38;5;28;01melse\u001b[39;00m :\n\u001b[0;32m    559\u001b[0m \t\u001b[38;5;66;03m# read raw data from binary data\u001b[39;00m\n\u001b[1;32m--> 560\u001b[0m \tlog_data, time_data \u001b[38;5;241m=\u001b[39m \u001b[43mextract_log\u001b[49m\u001b[43m(\u001b[49m\u001b[43mlog_bin\u001b[49m\u001b[43m \u001b[49m\u001b[38;5;241;43m=\u001b[39;49m\u001b[43m \u001b[49m\u001b[43mlog_bin\u001b[49m\u001b[43m,\u001b[49m\u001b[43m \u001b[49m\u001b[43macceleration_scale\u001b[49m\u001b[43m \u001b[49m\u001b[38;5;241;43m=\u001b[39;49m\u001b[43m \u001b[49m\u001b[38;5;28;43mfloat\u001b[39;49m\u001b[43m(\u001b[49m\u001b[43mmeta_data\u001b[49m\u001b[43m[\u001b[49m\u001b[38;5;124;43m'\u001b[39;49m\u001b[38;5;124;43mAcceleration_Scale\u001b[39;49m\u001b[38;5;124;43m'\u001b[39;49m\u001b[43m]\u001b[49m\u001b[43m)\u001b[49m\u001b[43m,\u001b[49m\u001b[43m \u001b[49m\u001b[43msample_rate\u001b[49m\u001b[43m \u001b[49m\u001b[38;5;241;43m=\u001b[39;49m\u001b[43m \u001b[49m\u001b[38;5;28;43mint\u001b[39;49m\u001b[43m(\u001b[49m\u001b[43mmeta_data\u001b[49m\u001b[43m[\u001b[49m\u001b[38;5;124;43m'\u001b[39;49m\u001b[38;5;124;43mSample_Rate\u001b[39;49m\u001b[38;5;124;43m'\u001b[39;49m\u001b[43m]\u001b[49m\u001b[43m)\u001b[49m\u001b[43m,\u001b[49m\u001b[43m \u001b[49m\u001b[43muse_scaling\u001b[49m\u001b[43m \u001b[49m\u001b[38;5;241;43m=\u001b[39;49m\u001b[43m \u001b[49m\u001b[38;5;28;43;01mFalse\u001b[39;49;00m\u001b[43m,\u001b[49m\u001b[43m \u001b[49m\u001b[43mverbose\u001b[49m\u001b[43m \u001b[49m\u001b[38;5;241;43m=\u001b[39;49m\u001b[43m \u001b[49m\u001b[43mverbose\u001b[49m\u001b[43m)\u001b[49m\n\u001b[0;32m    562\u001b[0m meta_data[\u001b[38;5;124m'\u001b[39m\u001b[38;5;124mold_format\u001b[39m\u001b[38;5;124m'\u001b[39m] \u001b[38;5;241m=\u001b[39m old_format\n\u001b[0;32m    564\u001b[0m \u001b[38;5;28;01mif\u001b[39;00m rescale_data:\n",
      "File \u001b[1;32mC:\\GBW_MyPrograms\\Anaconda3\\envs\\MATLAB_PYTHON\\lib\\site-packages\\gt3x\\gt3x_functions.py:184\u001b[0m, in \u001b[0;36mextract_log\u001b[1;34m(log_bin, acceleration_scale, sample_rate, use_scaling, verbose)\u001b[0m\n\u001b[0;32m    182\u001b[0m \u001b[38;5;66;03m# create empty array for the acceleration data\u001b[39;00m\n\u001b[0;32m    183\u001b[0m log_data \u001b[38;5;241m=\u001b[39m np\u001b[38;5;241m.\u001b[39mempty((sample_rate \u001b[38;5;241m*\u001b[39m SIZE , NUM_AXES), dtype\u001b[38;5;241m=\u001b[39macc_data_type)\n\u001b[1;32m--> 184\u001b[0m log_data[:] \u001b[38;5;241m=\u001b[39m np\u001b[38;5;241m.\u001b[39mNaN\n\u001b[0;32m    185\u001b[0m \u001b[38;5;66;03m# empty numpy array to store the timestamps\u001b[39;00m\n\u001b[0;32m    186\u001b[0m time_data \u001b[38;5;241m=\u001b[39m np\u001b[38;5;241m.\u001b[39mempty((SIZE,\u001b[38;5;241m1\u001b[39m), dtype\u001b[38;5;241m=\u001b[39mnp\u001b[38;5;241m.\u001b[39muint32)\n",
      "\u001b[1;31mValueError\u001b[0m: cannot convert float NaN to integer"
     ]
    }
   ],
   "source": [
    "process_gt3x_file(1, 3, f, f_save)"
   ]
  },
  {
   "cell_type": "code",
   "execution_count": null,
   "id": "09a6f3d9",
   "metadata": {},
   "outputs": [],
   "source": []
  }
 ],
 "metadata": {
  "kernelspec": {
   "display_name": "Python 3 (ipykernel)",
   "language": "python",
   "name": "python3"
  },
  "language_info": {
   "codemirror_mode": {
    "name": "ipython",
    "version": 3
   },
   "file_extension": ".py",
   "mimetype": "text/x-python",
   "name": "python",
   "nbconvert_exporter": "python",
   "pygments_lexer": "ipython3",
   "version": "3.10.9"
  }
 },
 "nbformat": 4,
 "nbformat_minor": 5
}
