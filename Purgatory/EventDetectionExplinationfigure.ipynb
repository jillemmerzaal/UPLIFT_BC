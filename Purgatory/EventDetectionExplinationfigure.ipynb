{
 "cells": [
  {
   "cell_type": "code",
   "execution_count": 10,
   "id": "22f3f8f3",
   "metadata": {},
   "outputs": [],
   "source": [
    "import numpy as np\n",
    "import pandas as pd\n",
    "import matplotlib.pyplot as plt\n",
    "import seaborn as sns"
   ]
  },
  {
   "cell_type": "code",
   "execution_count": 11,
   "id": "a06c8f40",
   "metadata": {},
   "outputs": [
    {
     "data": {
      "text/html": [
       "<div>\n",
       "<style scoped>\n",
       "    .dataframe tbody tr th:only-of-type {\n",
       "        vertical-align: middle;\n",
       "    }\n",
       "\n",
       "    .dataframe tbody tr th {\n",
       "        vertical-align: top;\n",
       "    }\n",
       "\n",
       "    .dataframe thead th {\n",
       "        text-align: right;\n",
       "    }\n",
       "</style>\n",
       "<table border=\"1\" class=\"dataframe\">\n",
       "  <thead>\n",
       "    <tr style=\"text-align: right;\">\n",
       "      <th></th>\n",
       "      <th>Position Z</th>\n",
       "      <th>Diff Angular Vel Vec</th>\n",
       "      <th>Acc X</th>\n",
       "    </tr>\n",
       "  </thead>\n",
       "  <tbody>\n",
       "    <tr>\n",
       "      <th>0</th>\n",
       "      <td>1.416108</td>\n",
       "      <td>-0.003895</td>\n",
       "      <td>-0.019913</td>\n",
       "    </tr>\n",
       "    <tr>\n",
       "      <th>1</th>\n",
       "      <td>1.414307</td>\n",
       "      <td>-0.003574</td>\n",
       "      <td>-0.043012</td>\n",
       "    </tr>\n",
       "    <tr>\n",
       "      <th>2</th>\n",
       "      <td>1.412569</td>\n",
       "      <td>-0.002968</td>\n",
       "      <td>-0.065459</td>\n",
       "    </tr>\n",
       "    <tr>\n",
       "      <th>3</th>\n",
       "      <td>1.410943</td>\n",
       "      <td>-0.001997</td>\n",
       "      <td>-0.086540</td>\n",
       "    </tr>\n",
       "    <tr>\n",
       "      <th>4</th>\n",
       "      <td>1.409464</td>\n",
       "      <td>-0.000696</td>\n",
       "      <td>-0.105798</td>\n",
       "    </tr>\n",
       "  </tbody>\n",
       "</table>\n",
       "</div>"
      ],
      "text/plain": [
       "   Position Z  Diff Angular Vel Vec     Acc X\n",
       "0    1.416108             -0.003895 -0.019913\n",
       "1    1.414307             -0.003574 -0.043012\n",
       "2    1.412569             -0.002968 -0.065459\n",
       "3    1.410943             -0.001997 -0.086540\n",
       "4    1.409464             -0.000696 -0.105798"
      ]
     },
     "execution_count": 11,
     "metadata": {},
     "output_type": "execute_result"
    }
   ],
   "source": [
    "timecurves = pd.read_csv(\"C:\\\\Users\\\\u0117545\\\\Documents\\\\GitHub\\\\ULIFT_BC\\\\Purgatory\\\\EventDetectionTimecures.csv\")\n",
    "timecurves.head()"
   ]
  },
  {
   "cell_type": "code",
   "execution_count": 12,
   "id": "11e01bee",
   "metadata": {},
   "outputs": [
    {
     "data": {
      "text/html": [
       "<div>\n",
       "<style scoped>\n",
       "    .dataframe tbody tr th:only-of-type {\n",
       "        vertical-align: middle;\n",
       "    }\n",
       "\n",
       "    .dataframe tbody tr th {\n",
       "        vertical-align: top;\n",
       "    }\n",
       "\n",
       "    .dataframe thead th {\n",
       "        text-align: right;\n",
       "    }\n",
       "</style>\n",
       "<table border=\"1\" class=\"dataframe\">\n",
       "  <thead>\n",
       "    <tr style=\"text-align: right;\">\n",
       "      <th></th>\n",
       "      <th>subj_id</th>\n",
       "      <th>Trial</th>\n",
       "      <th>Start_phase1</th>\n",
       "      <th>Stop_phase1</th>\n",
       "      <th>Start_phase4</th>\n",
       "      <th>Stop_phase4</th>\n",
       "      <th>Var7</th>\n",
       "      <th>Change1</th>\n",
       "      <th>Change2</th>\n",
       "    </tr>\n",
       "  </thead>\n",
       "  <tbody>\n",
       "    <tr>\n",
       "      <th>0</th>\n",
       "      <td>BC_005</td>\n",
       "      <td>ULIFT_R_002</td>\n",
       "      <td>53</td>\n",
       "      <td>393</td>\n",
       "      <td>1124</td>\n",
       "      <td>1454</td>\n",
       "      <td>NaN</td>\n",
       "      <td>0</td>\n",
       "      <td>0</td>\n",
       "    </tr>\n",
       "    <tr>\n",
       "      <th>1</th>\n",
       "      <td>NaN</td>\n",
       "      <td>NaN</td>\n",
       "      <td>57</td>\n",
       "      <td>399</td>\n",
       "      <td>1126</td>\n",
       "      <td>1445</td>\n",
       "      <td>0.0</td>\n",
       "      <td>451</td>\n",
       "      <td>1043</td>\n",
       "    </tr>\n",
       "  </tbody>\n",
       "</table>\n",
       "</div>"
      ],
      "text/plain": [
       "  subj_id        Trial  Start_phase1  Stop_phase1  Start_phase4  Stop_phase4  \\\n",
       "0  BC_005  ULIFT_R_002            53          393          1124         1454   \n",
       "1     NaN          NaN            57          399          1126         1445   \n",
       "\n",
       "   Var7  Change1  Change2  \n",
       "0   NaN        0        0  \n",
       "1   0.0      451     1043  "
      ]
     },
     "execution_count": 12,
     "metadata": {},
     "output_type": "execute_result"
    }
   ],
   "source": [
    "POI = pd.read_csv(\"C:\\\\Users\\\\u0117545\\\\Documents\\\\GitHub\\\\ULIFT_BC\\\\Purgatory\\\\EventDetectionPOI.csv\")\n",
    "POI.head()"
   ]
  },
  {
   "cell_type": "code",
   "execution_count": 13,
   "id": "abd7bcce",
   "metadata": {},
   "outputs": [],
   "source": [
    "change = (\"Step 1: determine the points where the \"\n",
    "          \"average of the arm data has changed\")\n",
    "\n",
    "Start_end = (\"Step 2: determin the start and end of \"\n",
    "            \"the full ULIFT task with the rate of change \"\n",
    "            \"of the angular velocity data\")\n",
    "\n",
    "Phases_segment = (\"Step 3: determine the end of phase 1 \"\n",
    "                 \"and the start of phase 4 with the local \"\n",
    "                 \"minima in the acceleration data provided that \"\n",
    "                 \"it falls before and after the change points respecively\")"
   ]
  },
  {
   "cell_type": "code",
   "execution_count": 14,
   "id": "90ba4687",
   "metadata": {},
   "outputs": [
    {
     "ename": "NameError",
     "evalue": "name 'df' is not defined",
     "output_type": "error",
     "traceback": [
      "\u001b[1;31m---------------------------------------------------------------------------\u001b[0m",
      "\u001b[1;31mNameError\u001b[0m                                 Traceback (most recent call last)",
      "\u001b[1;32m~\\AppData\\Local\\Temp/ipykernel_20516/2274138265.py\u001b[0m in \u001b[0;36m<module>\u001b[1;34m\u001b[0m\n\u001b[0;32m      6\u001b[0m \u001b[0max\u001b[0m\u001b[1;33m[\u001b[0m\u001b[1;36m0\u001b[0m\u001b[1;33m]\u001b[0m\u001b[1;33m.\u001b[0m\u001b[0maxvline\u001b[0m\u001b[1;33m(\u001b[0m\u001b[0mPOI\u001b[0m\u001b[1;33m[\u001b[0m\u001b[1;34m'Change2'\u001b[0m\u001b[1;33m]\u001b[0m\u001b[1;33m[\u001b[0m\u001b[1;36m1\u001b[0m\u001b[1;33m]\u001b[0m\u001b[1;33m,\u001b[0m \u001b[0mls\u001b[0m\u001b[1;33m=\u001b[0m\u001b[1;34m':'\u001b[0m\u001b[1;33m,\u001b[0m \u001b[0mcolor\u001b[0m\u001b[1;33m=\u001b[0m\u001b[1;34m'red'\u001b[0m\u001b[1;33m,\u001b[0m \u001b[0mlabel\u001b[0m\u001b[1;33m=\u001b[0m\u001b[1;34m'changepoints'\u001b[0m\u001b[1;33m)\u001b[0m\u001b[1;33m\u001b[0m\u001b[1;33m\u001b[0m\u001b[0m\n\u001b[0;32m      7\u001b[0m \u001b[0max\u001b[0m\u001b[1;33m[\u001b[0m\u001b[1;36m0\u001b[0m\u001b[1;33m]\u001b[0m\u001b[1;33m.\u001b[0m\u001b[0mhlines\u001b[0m\u001b[1;33m(\u001b[0m\u001b[0my\u001b[0m\u001b[1;33m=\u001b[0m\u001b[1;36m1.5\u001b[0m\u001b[1;33m,\u001b[0m \u001b[0mxmin\u001b[0m\u001b[1;33m=\u001b[0m\u001b[1;36m0\u001b[0m\u001b[1;33m,\u001b[0m \u001b[0mxmax\u001b[0m\u001b[1;33m=\u001b[0m\u001b[0mPOI\u001b[0m\u001b[1;33m[\u001b[0m\u001b[1;34m'Change1'\u001b[0m\u001b[1;33m]\u001b[0m\u001b[1;33m[\u001b[0m\u001b[1;36m1\u001b[0m\u001b[1;33m]\u001b[0m\u001b[1;33m,\u001b[0m \u001b[0mlinewidth\u001b[0m\u001b[1;33m=\u001b[0m\u001b[1;36m120\u001b[0m\u001b[1;33m,\u001b[0m \u001b[0mcolor\u001b[0m\u001b[1;33m=\u001b[0m\u001b[1;34m'grey'\u001b[0m\u001b[1;33m,\u001b[0m \u001b[0malpha\u001b[0m\u001b[1;33m=\u001b[0m\u001b[1;36m0.2\u001b[0m\u001b[1;33m)\u001b[0m\u001b[1;33m\u001b[0m\u001b[1;33m\u001b[0m\u001b[0m\n\u001b[1;32m----> 8\u001b[1;33m \u001b[0max\u001b[0m\u001b[1;33m[\u001b[0m\u001b[1;36m0\u001b[0m\u001b[1;33m]\u001b[0m\u001b[1;33m.\u001b[0m\u001b[0mhlines\u001b[0m\u001b[1;33m(\u001b[0m\u001b[0my\u001b[0m\u001b[1;33m=\u001b[0m\u001b[1;36m1.5\u001b[0m\u001b[1;33m,\u001b[0m \u001b[0mxmin\u001b[0m\u001b[1;33m=\u001b[0m\u001b[0mPOI\u001b[0m\u001b[1;33m[\u001b[0m\u001b[1;34m'Change2'\u001b[0m\u001b[1;33m]\u001b[0m\u001b[1;33m[\u001b[0m\u001b[1;36m1\u001b[0m\u001b[1;33m]\u001b[0m\u001b[1;33m,\u001b[0m \u001b[0mxmax\u001b[0m\u001b[1;33m=\u001b[0m\u001b[0mlen\u001b[0m\u001b[1;33m(\u001b[0m\u001b[0mdf\u001b[0m\u001b[1;33m)\u001b[0m\u001b[1;33m,\u001b[0m \u001b[0mlinewidth\u001b[0m\u001b[1;33m=\u001b[0m\u001b[1;36m120\u001b[0m\u001b[1;33m,\u001b[0m \u001b[0mcolor\u001b[0m\u001b[1;33m=\u001b[0m\u001b[1;34m'grey'\u001b[0m\u001b[1;33m,\u001b[0m \u001b[0malpha\u001b[0m\u001b[1;33m=\u001b[0m\u001b[1;36m0.2\u001b[0m\u001b[1;33m)\u001b[0m\u001b[1;33m\u001b[0m\u001b[1;33m\u001b[0m\u001b[0m\n\u001b[0m\u001b[0;32m      9\u001b[0m \u001b[0max\u001b[0m\u001b[1;33m[\u001b[0m\u001b[1;36m0\u001b[0m\u001b[1;33m]\u001b[0m\u001b[1;33m.\u001b[0m\u001b[0mtext\u001b[0m\u001b[1;33m(\u001b[0m\u001b[1;36m0\u001b[0m\u001b[1;33m,\u001b[0m \u001b[1;36m1.85\u001b[0m\u001b[1;33m,\u001b[0m \u001b[0mchange\u001b[0m\u001b[1;33m)\u001b[0m\u001b[1;33m\u001b[0m\u001b[1;33m\u001b[0m\u001b[0m\n\u001b[0;32m     10\u001b[0m \u001b[1;33m\u001b[0m\u001b[0m\n",
      "\u001b[1;31mNameError\u001b[0m: name 'df' is not defined"
     ]
    },
    {
     "data": {
      "image/png": "[encoded data removed]",
      "text/plain": [
       "<Figure size 864x576 with 3 Axes>"
      ]
     },
     "metadata": {
      "needs_background": "light"
     },
     "output_type": "display_data"
    }
   ],
   "source": [
    "fig, ax = plt.subplots(nrows=3, ncols=1, figsize=(12,8), sharex=True)\n",
    "\n",
    "\n",
    "sns.lineplot(x=timecurves.index, y='Position Z', data=timecurves, ax=ax[0])\n",
    "ax[0].axvline(POI['Change1'][1], ls=':', color='red')\n",
    "ax[0].axvline(POI['Change2'][1], ls=':', color='red', label='changepoints')\n",
    "ax[0].hlines(y=1.5, xmin=0, xmax=POI['Change1'][1], linewidth=120, color='grey', alpha=0.2)\n",
    "ax[0].hlines(y=1.5, xmin=POI['Change2'][1], xmax=len(df), linewidth=120, color='grey', alpha=0.2)\n",
    "ax[0].text(0, 1.85, change)\n",
    "\n",
    "sns.lineplot(x=timecurves.index, y='Diff Angular Vel Vec', data=timecurves, ax=ax[1])\n",
    "ax[1].axvline(POI['Start_phase1'][1], ls=':', color='red')\n",
    "ax[1].axvline(POI['Stop_phase4'][1], ls=':', color='red')\n",
    "ax[1].hlines(y=0, xmin=POI['Start_phase1'][1], xmax=POI['Change1'][1], linewidth=120, color='grey', alpha=0.2)\n",
    "ax[1].hlines(y=0, xmin=POI['Change2'][1], xmax=POI['Stop_phase4'][1], linewidth=120, color='grey', alpha=0.2)\n",
    "ax[1].text(0, 0.85, Start_end, wrap=True)\n",
    "\n",
    "sns.lineplot(x=timecurves.index, y='Acc X', data=timecurves, ax=ax[2])\n",
    "ax[2].axvline(POI['Stop_phase1'][1], ls=':', color='red')\n",
    "ax[2].axvline(POI['Start_phase4'][1], ls=':', color='red')\n",
    "ax[2].hlines(y=0, xmin=POI['Start_phase1'][1], xmax=POI['Stop_phase1'][1], linewidth=120, color='green', alpha=0.2)\n",
    "ax[2].hlines(y=0, xmin=POI['Start_phase4'][1], xmax=POI['Stop_phase4'][1], linewidth=120, color='green', alpha=0.2)\n",
    "ax[2].text(0, 9, Phases_segment, ha='left', wrap=True)\n",
    "\n",
    "plt.xlim(0,1400)\n",
    "sns.despine()\n",
    "\n",
    "plt.savefig('EventDetection.jpeg', dpi=300)"
   ]
  },
  {
   "cell_type": "code",
   "execution_count": null,
   "id": "b32d21fd",
   "metadata": {},
   "outputs": [],
   "source": []
  }
 ],
 "metadata": {
  "kernelspec": {
   "display_name": "Python 3 (ipykernel)",
   "language": "python",
   "name": "python3"
  },
  "language_info": {
   "codemirror_mode": {
    "name": "ipython",
    "version": 3
   },
   "file_extension": ".py",
   "mimetype": "text/x-python",
   "name": "python",
   "nbconvert_exporter": "python",
   "pygments_lexer": "ipython3",
   "version": "3.9.7"
  }
 },
 "nbformat": 4,
 "nbformat_minor": 5
}
