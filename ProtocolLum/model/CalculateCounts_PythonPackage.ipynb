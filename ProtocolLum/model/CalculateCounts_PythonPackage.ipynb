{
 "cells": [
  {
   "cell_type": "code",
   "execution_count": 2,
   "id": "57d081fb",
   "metadata": {},
   "outputs": [],
   "source": [
    "import pandas as pd\n",
    "import numpy as np\n",
    "from agcounts.extract import get_counts\n",
    "import agcounts"
   ]
  },
  {
   "cell_type": "markdown",
   "id": "4c0b8243",
   "metadata": {},
   "source": [
    "Docstring:\n",
    "Generate counts from raw data.\n",
    "\n",
    "Parameters\n",
    "----------\n",
    "raw : ndarray, shape (n_samples, ANY)\n",
    "    Raw data matrix\n",
    "freq : int\n",
    "    Sampling frequency, has to be 30, 40, 50, 60, 70, 80, 90 or 100 Hz.\n",
    "epoch : int\n",
    "    Epoch length (seconds).\n",
    "fast:\n",
    "    Use fast implementation\n",
    "verbose:\n",
    "    Print diagnostic messages\n",
    "\n",
    "Returns\n",
    "-------\n",
    "counts : ndarray, shape (n_epochs, ANY)\n",
    "    The counts, n_epochs = ceil(n_samples/freq).\n",
    "File:      c:\\gbw_myprograms\\anaconda3\\lib\\site-packages\\agcounts\\extract.py\n",
    "Type:      function"
   ]
  },
  {
   "cell_type": "code",
   "execution_count": null,
   "id": "fce095b3",
   "metadata": {},
   "outputs": [],
   "source": []
  }
 ],
 "metadata": {
  "kernelspec": {
   "display_name": "Python 3 (ipykernel)",
   "language": "python",
   "name": "python3"
  },
  "language_info": {
   "codemirror_mode": {
    "name": "ipython",
    "version": 3
   },
   "file_extension": ".py",
   "mimetype": "text/x-python",
   "name": "python",
   "nbconvert_exporter": "python",
   "pygments_lexer": "ipython3",
   "version": "3.9.7"
  }
 },
 "nbformat": 4,
 "nbformat_minor": 5
}
