{
 "cells": [
  {
   "cell_type": "code",
   "execution_count": 2,
   "id": "4f8f14b7",
   "metadata": {},
   "outputs": [],
   "source": [
    "import pandas as pd\n",
    "import numpy as np\n",
    "from agcounts.extract import get_counts\n",
    "import agcounts"
   ]
  },
  {
   "cell_type": "markdown",
   "id": "300f7224",
   "metadata": {},
   "source": [
    "Docstring:\n",
    "Generate counts from raw data.\n",
    "\n",
    "Parameters\n",
    "----------\n",
    "raw : ndarray, shape (n_samples, ANY)\n",
    "    Raw data matrix\n",
    "freq : int\n",
    "    Sampling frequency, has to be 30, 40, 50, 60, 70, 80, 90 or 100 Hz.\n",
    "epoch : int\n",
    "    Epoch length (seconds).\n",
    "fast:\n",
    "    Use fast implementation\n",
    "verbose:\n",
    "    Print diagnostic messages\n",
    "\n",
    "Returns\n",
    "-------\n",
    "counts : ndarray, shape (n_epochs, ANY)\n",
    "    The counts, n_epochs = ceil(n_samples/freq).\n",
    "File:      c:\\gbw_myprograms\\anaconda3\\lib\\site-packages\\agcounts\\extract.py\n",
    "Type:      function"
   ]
  },
  {
   "cell_type": "code",
   "execution_count": 3,
   "id": "64e20ea7",
   "metadata": {},
   "outputs": [
    {
     "ename": "TypeError",
     "evalue": "get_counts() missing 3 required positional arguments: 'raw', 'freq', and 'epoch'",
     "output_type": "error",
     "traceback": [
      "\u001b[1;31m---------------------------------------------------------------------------\u001b[0m",
      "\u001b[1;31mTypeError\u001b[0m                                 Traceback (most recent call last)",
      "\u001b[1;32m~\\AppData\\Local\\Temp/ipykernel_16924/1637230199.py\u001b[0m in \u001b[0;36m<module>\u001b[1;34m\u001b[0m\n\u001b[1;32m----> 1\u001b[1;33m \u001b[0mget_counts\u001b[0m\u001b[1;33m(\u001b[0m\u001b[1;33m)\u001b[0m\u001b[1;33m\u001b[0m\u001b[1;33m\u001b[0m\u001b[0m\n\u001b[0m",
      "\u001b[1;31mTypeError\u001b[0m: get_counts() missing 3 required positional arguments: 'raw', 'freq', and 'epoch'"
     ]
    }
   ],
   "source": []
  },
  {
   "cell_type": "code",
   "execution_count": null,
   "id": "a3e11f95",
   "metadata": {},
   "outputs": [],
   "source": []
  }
 ],
 "metadata": {
  "kernelspec": {
   "display_name": "Python 3 (ipykernel)",
   "language": "python",
   "name": "python3"
  },
  "language_info": {
   "codemirror_mode": {
    "name": "ipython",
    "version": 3
   },
   "file_extension": ".py",
   "mimetype": "text/x-python",
   "name": "python",
   "nbconvert_exporter": "python",
   "pygments_lexer": "ipython3",
   "version": "3.9.7"
  }
 },
 "nbformat": 4,
 "nbformat_minor": 5
}
