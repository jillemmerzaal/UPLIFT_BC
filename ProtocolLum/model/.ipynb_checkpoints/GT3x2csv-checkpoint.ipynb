{
 "cells": [
  {
   "cell_type": "code",
   "execution_count": 13,
   "id": "38a95776",
   "metadata": {},
   "outputs": [],
   "source": [
    "from pygt3x.reader import FileReader\n",
    "from pygt3x.calibration import CalibratedReader\n",
    "import pygt3x\n",
    "import numpy as np\n",
    "import pandas as pd\n",
    "import matplotlib.pyplot as plt\n",
    "import os\n",
    "class bcolors:\n",
    "    HEADER = '\\033[95m'\n",
    "    OKBLUE = '\\033[94m'\n",
    "    OKCYAN = '\\033[96m'\n",
    "    OKGREEN = '\\033[92m'\n",
    "    WARNING = '\\033[93m'\n",
    "    FAIL = '\\033[91m'\n",
    "    ENDC = '\\033[0m'\n",
    "    BOLD = '\\033[1m'\n",
    "    UNDERLINE = '\\033[4m'"
   ]
  },
  {
   "cell_type": "code",
   "execution_count": 2,
   "id": "84b4614c",
   "metadata": {},
   "outputs": [],
   "source": [
    "path = \"C:\\\\Users\\\\u0117545\\\\KU Leuven\\\\An De Groef - DATA\\\\LUM\\\\\"\n",
    "ppID = 'L_002\\\\'"
   ]
  },
  {
   "cell_type": "code",
   "execution_count": 3,
   "id": "78dd4b27",
   "metadata": {},
   "outputs": [
    {
     "data": {
      "text/plain": [
       "['Adobe Premiere Pro Auto-Save',\n",
       " 'C0010.MP4',\n",
       " 'csv',\n",
       " 'L_002.prproj',\n",
       " 'MOS2E08190526 (2022-12-07).gt3x',\n",
       " 'MOS2E08190526 (2022-12-07)1sec.agd',\n",
       " 'MOS2E28180516 (2022-12-07).gt3x',\n",
       " 'MOS2E28180516 (2022-12-07)1sec.agd']"
      ]
     },
     "execution_count": 3,
     "metadata": {},
     "output_type": "execute_result"
    }
   ],
   "source": [
    "dir_path = path + ppID\n",
    "\n",
    "# list file and directories\n",
    "res = os.listdir(dir_path)\n",
    "res"
   ]
  },
  {
   "cell_type": "code",
   "execution_count": 14,
   "id": "c7766061",
   "metadata": {},
   "outputs": [
    {
     "name": "stdout",
     "output_type": "stream",
     "text": [
      "\u001b[95mFile to analyse: MOS2E08190526 (2022-12-07).gt3x\u001b[0m\n",
      "Input path: C:\\Users\\u0117545\\KU Leuven\\An De Groef - DATA\\LUM\\L_002\\MOS2E08190526 (2022-12-07).gt3x\n",
      "Output path: C:\\Users\\u0117545\\KU Leuven\\An De Groef - DATA\\LUM\\L_002\\csv\\MOS2E08190526 (2022-12-07).csv\n",
      "                     X         Y         Z\n",
      "Timestamp                                 \n",
      "1.670405e+09  0.000000  0.062500 -0.968750\n",
      "1.670405e+09 -0.019531  0.015625 -0.968750\n",
      "1.670405e+09 -0.023438  0.019531 -0.968750\n",
      "1.670405e+09 -0.015625  0.019531 -0.968750\n",
      "1.670405e+09 -0.015625  0.023438 -0.972656\n",
      "________________________________________________________________________________\n",
      "\n",
      "\u001b[95mFile to analyse: MOS2E28180516 (2022-12-07).gt3x\u001b[0m\n",
      "Input path: C:\\Users\\u0117545\\KU Leuven\\An De Groef - DATA\\LUM\\L_002\\MOS2E28180516 (2022-12-07).gt3x\n",
      "Output path: C:\\Users\\u0117545\\KU Leuven\\An De Groef - DATA\\LUM\\L_002\\csv\\MOS2E28180516 (2022-12-07).csv\n",
      "                     X         Y         Z\n",
      "Timestamp                                 \n",
      "1.670405e+09  0.011719  0.031250 -0.980469\n",
      "1.670405e+09  0.000000  0.007812 -0.984375\n",
      "1.670405e+09  0.003906  0.007812 -0.984375\n",
      "1.670405e+09  0.003906  0.003906 -0.984375\n",
      "1.670405e+09  0.007812  0.003906 -0.984375\n",
      "________________________________________________________________________________\n",
      "\n"
     ]
    }
   ],
   "source": [
    "for file in os.listdir(dir_path):\n",
    "    if '.gt3x' in file:\n",
    "        print(bcolors.HEADER  + 'File to analyse: {}'.format(file) + bcolors.ENDC)\n",
    "        Input = file\n",
    "        core = Input[:Input.find('.')]\n",
    "        input_path = dir_path + Input\n",
    "        output_path = dir_path + \"csv\\\\\" + core + '.csv'\n",
    "        \n",
    "        print('Input path: {}'.format(input_path))\n",
    "        print('Output path: {}'.format(output_path))\n",
    "        \n",
    "        with FileReader(input_path) as reader:\n",
    "            calibrated_reader = CalibratedReader(reader)\n",
    "            df = calibrated_reader.to_pandas()\n",
    "            print(df.head())\n",
    "            df.to_csv(output_path)\n",
    "        \n",
    "        print(80*'_'+'\\n')"
   ]
  },
  {
   "cell_type": "code",
   "execution_count": null,
   "id": "aefb4dfc",
   "metadata": {},
   "outputs": [],
   "source": []
  }
 ],
 "metadata": {
  "kernelspec": {
   "display_name": "Python 3 (ipykernel)",
   "language": "python",
   "name": "python3"
  },
  "language_info": {
   "codemirror_mode": {
    "name": "ipython",
    "version": 3
   },
   "file_extension": ".py",
   "mimetype": "text/x-python",
   "name": "python",
   "nbconvert_exporter": "python",
   "pygments_lexer": "ipython3",
   "version": "3.9.7"
  }
 },
 "nbformat": 4,
 "nbformat_minor": 5
}
